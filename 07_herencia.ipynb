{
 "cells": [
  {
   "cell_type": "markdown",
   "metadata": {},
   "source": [
    "[![pythonista.io](imagenes/pythonista.png)](https://pythonista.io)"
   ]
  },
  {
   "cell_type": "markdown",
   "metadata": {},
   "source": [
    "# Herencia."
   ]
  },
  {
   "cell_type": "markdown",
   "metadata": {
    "collapsed": true
   },
   "source": [
    "Es posible crear nuevas clases a partir de una o varias clases mediante la herencia.\n",
    "La clase original se denomina \"superclase\" y la clase que hereda los atributos y métodos de la superclase se denomina \"subclase\".\n",
    "Se pueden definir atributos  y métodos adicionales a la superclase e incluso se pueden sobrescribir los atributos y métodos heredados en la subclase.\n",
    "\n",
    "La sintaxis de herencia es la siguiente:\n",
    "\n",
    "```\n",
    "class <nombre>(<nombre de la superclase>):\n",
    "    ...\n",
    "    ...\n",
    "```\n",
    "**Ejemplo:**\n",
    "\n",
    "Se creará la clase _Estudiante_ a partir de la clase _Persona_."
   ]
  },
  {
   "cell_type": "code",
   "execution_count": 1,
   "metadata": {},
   "outputs": [],
   "source": [
    "class Persona:\n",
    "    '''Clase base para creación de datos personales.'''\n",
    "    \n",
    "    def __init__(self):\n",
    "        '''Genera una clave única a partir de una estampa de tiempo y la relaciona con el atributo __clave.'''\n",
    "        from time import time\n",
    "        self.__clave = str(int(time() / 0.017))[1:]\n",
    "        \n",
    "    @property\n",
    "    \n",
    "    def clave(self):\n",
    "        '''Regresa el valor del atributo \"escondido\" __clave.'''\n",
    "        return self.__clave\n",
    "    \n",
    "    @property\n",
    "    def nombre(self):\n",
    "        '''Regresa una cadena de caracteres a partir de la lista contenida en lista_nombre.'''\n",
    "        return \" \".join(self.lista_nombre)\n",
    "    \n",
    "    @nombre.setter\n",
    "    def nombre(self, nombre):\n",
    "        '''Debe ingresarse una lista o tupla con entre 2 y 3 elementos.'''\n",
    "        if len(nombre) < 2 or len(nombre) > 3 or type(nombre) not in (list, tuple):\n",
    "            raise ValueError(\"Formato incorrecto.\")\n",
    "        else:\n",
    "            self.lista_nombre = nombre"
   ]
  },
  {
   "cell_type": "code",
   "execution_count": 12,
   "metadata": {},
   "outputs": [
    {
     "data": {
      "text/plain": [
       "['__class__',\n",
       " '__delattr__',\n",
       " '__dict__',\n",
       " '__dir__',\n",
       " '__doc__',\n",
       " '__eq__',\n",
       " '__format__',\n",
       " '__ge__',\n",
       " '__getattribute__',\n",
       " '__gt__',\n",
       " '__hash__',\n",
       " '__init__',\n",
       " '__init_subclass__',\n",
       " '__le__',\n",
       " '__lt__',\n",
       " '__module__',\n",
       " '__ne__',\n",
       " '__new__',\n",
       " '__reduce__',\n",
       " '__reduce_ex__',\n",
       " '__repr__',\n",
       " '__setattr__',\n",
       " '__sizeof__',\n",
       " '__str__',\n",
       " '__subclasshook__',\n",
       " '__weakref__',\n",
       " 'clave',\n",
       " 'nombre']"
      ]
     },
     "execution_count": 12,
     "metadata": {},
     "output_type": "execute_result"
    }
   ],
   "source": [
    "dir(Persona)"
   ]
  },
  {
   "cell_type": "code",
   "execution_count": 2,
   "metadata": {},
   "outputs": [],
   "source": [
    "class Estudiante(Persona):\n",
    "    '''Clase que hereda a Persona.'''\n",
    "    tira_de_materias = []\n",
    "    \n",
    "    def inscripcion(self, materia):\n",
    "        '''Añade elementos a tira_de_materias.'''\n",
    "        self.tira_de_materias.append(materia)        "
   ]
  },
  {
   "cell_type": "code",
   "execution_count": 3,
   "metadata": {},
   "outputs": [],
   "source": [
    "bc2186 = Estudiante()"
   ]
  },
  {
   "cell_type": "code",
   "execution_count": 4,
   "metadata": {},
   "outputs": [
    {
     "data": {
      "text/plain": [
       "'9647087808'"
      ]
     },
     "execution_count": 4,
     "metadata": {},
     "output_type": "execute_result"
    }
   ],
   "source": [
    "bc2186.clave"
   ]
  },
  {
   "cell_type": "code",
   "execution_count": 5,
   "metadata": {},
   "outputs": [],
   "source": [
    "bc2186.inscripcion(\"Álgebra I\")"
   ]
  },
  {
   "cell_type": "code",
   "execution_count": 6,
   "metadata": {},
   "outputs": [
    {
     "data": {
      "text/plain": [
       "['Álgebra I']"
      ]
     },
     "execution_count": 6,
     "metadata": {},
     "output_type": "execute_result"
    }
   ],
   "source": [
    "bc2186.tira_de_materias"
   ]
  },
  {
   "cell_type": "code",
   "execution_count": 7,
   "metadata": {
    "scrolled": false
   },
   "outputs": [
    {
     "name": "stdout",
     "output_type": "stream",
     "text": [
      "Help on class Estudiante in module __main__:\n",
      "\n",
      "class Estudiante(Persona)\n",
      " |  Clase que hereda a Persona.\n",
      " |  \n",
      " |  Method resolution order:\n",
      " |      Estudiante\n",
      " |      Persona\n",
      " |      builtins.object\n",
      " |  \n",
      " |  Methods defined here:\n",
      " |  \n",
      " |  inscripcion(self, materia)\n",
      " |      Añade elementos a tira_de_materias.\n",
      " |  \n",
      " |  ----------------------------------------------------------------------\n",
      " |  Data and other attributes defined here:\n",
      " |  \n",
      " |  tira_de_materias = ['Álgebra I']\n",
      " |  \n",
      " |  ----------------------------------------------------------------------\n",
      " |  Methods inherited from Persona:\n",
      " |  \n",
      " |  __init__(self)\n",
      " |      Genera una clave única a partir de una estampa de tiempo y la relaciona con el atributo __clave.\n",
      " |  \n",
      " |  ----------------------------------------------------------------------\n",
      " |  Data descriptors inherited from Persona:\n",
      " |  \n",
      " |  __dict__\n",
      " |      dictionary for instance variables (if defined)\n",
      " |  \n",
      " |  __weakref__\n",
      " |      list of weak references to the object (if defined)\n",
      " |  \n",
      " |  clave\n",
      " |      Regresa el valor del atributo \"escondido\" __clave.\n",
      " |  \n",
      " |  nombre\n",
      " |      Regresa una cadena de caracteres a partir de la lista contenida en lista_nombre.\n",
      "\n"
     ]
    }
   ],
   "source": [
    "help(Estudiante)"
   ]
  },
  {
   "cell_type": "code",
   "execution_count": 9,
   "metadata": {},
   "outputs": [
    {
     "data": {
      "text/plain": [
       "['__class__',\n",
       " '__delattr__',\n",
       " '__dict__',\n",
       " '__dir__',\n",
       " '__doc__',\n",
       " '__eq__',\n",
       " '__format__',\n",
       " '__ge__',\n",
       " '__getattribute__',\n",
       " '__gt__',\n",
       " '__hash__',\n",
       " '__init__',\n",
       " '__init_subclass__',\n",
       " '__le__',\n",
       " '__lt__',\n",
       " '__module__',\n",
       " '__ne__',\n",
       " '__new__',\n",
       " '__reduce__',\n",
       " '__reduce_ex__',\n",
       " '__repr__',\n",
       " '__setattr__',\n",
       " '__sizeof__',\n",
       " '__str__',\n",
       " '__subclasshook__',\n",
       " '__weakref__',\n",
       " 'clave',\n",
       " 'inscripcion',\n",
       " 'nombre',\n",
       " 'tira_de_materias']"
      ]
     },
     "execution_count": 9,
     "metadata": {},
     "output_type": "execute_result"
    }
   ],
   "source": [
    "dir(Estudiante)"
   ]
  },
  {
   "cell_type": "code",
   "execution_count": 13,
   "metadata": {},
   "outputs": [
    {
     "data": {
      "text/plain": [
       "'9647087808'"
      ]
     },
     "execution_count": 13,
     "metadata": {},
     "output_type": "execute_result"
    }
   ],
   "source": [
    "bc2186._Persona__clave"
   ]
  },
  {
   "cell_type": "markdown",
   "metadata": {},
   "source": [
    "## La función _issubclass()_.\n",
    "Para saber si una clase es subclase de otra, se utiliza la función _subclass()_.\n",
    "\n",
    "Sintaxis:\n",
    "\n",
    "```\n",
    "issubclass(<clase_1>, <clase_2>)\n",
    "```\n",
    "**Ejemplo:**"
   ]
  },
  {
   "cell_type": "code",
   "execution_count": 14,
   "metadata": {},
   "outputs": [
    {
     "data": {
      "text/plain": [
       "True"
      ]
     },
     "execution_count": 14,
     "metadata": {},
     "output_type": "execute_result"
    }
   ],
   "source": [
    "issubclass(bc2186.__class__, Persona)"
   ]
  },
  {
   "cell_type": "code",
   "execution_count": 15,
   "metadata": {},
   "outputs": [
    {
     "data": {
      "text/plain": [
       "True"
      ]
     },
     "execution_count": 15,
     "metadata": {},
     "output_type": "execute_result"
    }
   ],
   "source": [
    "issubclass(Estudiante, Persona)"
   ]
  },
  {
   "cell_type": "code",
   "execution_count": 16,
   "metadata": {},
   "outputs": [
    {
     "data": {
      "text/plain": [
       "True"
      ]
     },
     "execution_count": 16,
     "metadata": {},
     "output_type": "execute_result"
    }
   ],
   "source": [
    "issubclass(Estudiante, object)"
   ]
  },
  {
   "cell_type": "markdown",
   "metadata": {},
   "source": [
    "## Sobrescritura de métodos con _super()_.\n",
    "\n",
    "En algunos casos es conveniente reutilizar parte del código de un método de una superclase que ha sido sobrescrito por el método de la subclase. \n",
    "\n",
    "La funcion _super()_ permite insertar el código del método de la superclase que ha sido sobrescrito.\n",
    "\n",
    "```\n",
    "class <SubClase>(<Superclase>):\n",
    "    ...\n",
    "    ...\n",
    "    def <método>(<parámetros>):\n",
    "        ...\n",
    "        ...\n",
    "        super().<método de la superclase>(<parámetros>)\n",
    "        ...\n",
    "     ...\n",
    "```\n",
    "**Ejemplo:**"
   ]
  },
  {
   "cell_type": "code",
   "execution_count": 17,
   "metadata": {},
   "outputs": [],
   "source": [
    "class Estudiante(Persona):\n",
    "    tira_de_materias = []\n",
    "    \n",
    "    def __init__(self, genero):\n",
    "        '''Añade el atributo genero al método __init__ de la superclase.'''\n",
    "        if genero.casefold() in ['masculino', 'femenino', 'otro']:\n",
    "            self.genero = genero\n",
    "        else:\n",
    "            raise ValueError\n",
    "        super().__init__()\n",
    "         \n",
    "    def inscripcion(self, materia):\n",
    "        '''Añade elementos a tira_de_materias.'''\n",
    "        self.tira_de_materias.append(materia)   "
   ]
  },
  {
   "cell_type": "code",
   "execution_count": 18,
   "metadata": {},
   "outputs": [],
   "source": [
    "bc471221 = Estudiante('masculino')"
   ]
  },
  {
   "cell_type": "code",
   "execution_count": 19,
   "metadata": {},
   "outputs": [
    {
     "data": {
      "text/plain": [
       "'masculino'"
      ]
     },
     "execution_count": 19,
     "metadata": {},
     "output_type": "execute_result"
    }
   ],
   "source": [
    "bc471221.genero"
   ]
  },
  {
   "cell_type": "code",
   "execution_count": 20,
   "metadata": {},
   "outputs": [
    {
     "data": {
      "text/plain": [
       "'9647121305'"
      ]
     },
     "execution_count": 20,
     "metadata": {},
     "output_type": "execute_result"
    }
   ],
   "source": [
    "bc471221.clave"
   ]
  },
  {
   "cell_type": "markdown",
   "metadata": {},
   "source": [
    "## Herencia múltiple.\n",
    "Python permite que una subclase pueda heredar de varias subclases. Sólo hay que ingresar el nombre de las subclases como argumentos en la definición de la clase.\n",
    "\n",
    "Sintaxis:\n",
    "\n",
    "```\n",
    "class <nombre>(<superclase 1>, <superclase 2>, ..., <superclase n>)\n",
    "```\n",
    "\n",
    "La primera superclase que se ingrese sobrescribirá los atributos de la siguiente y así sucesivamente.\n",
    "\n",
    "**Ejemplo:**\n",
    "\n",
    "* En este caso, la clase _Ornitorrinco_ es subclase de _Reptil_ y _Manifero_, las cuales a su vez son subclases de _Animal_.\n",
    "* El método *\\_\\_init\\_\\_()* de _Ornitorrinco_ sobrescribe al método *\\_\\_init\\_\\_()* de _Animal_, pero es recuperado mediante la función _super()_.\n",
    "* Debido a que la superclase _Reptil_ fue ingresado antes que _Mamifero_ en _Ornitorrinco_, el método _reproduccion()_ de _Reptil_ es el que va a sobrescribir al resto."
   ]
  },
  {
   "cell_type": "code",
   "execution_count": 21,
   "metadata": {},
   "outputs": [],
   "source": [
    "class Animal:\n",
    "    '''Clase base de todos los animales.'''\n",
    "    \n",
    "    def __init__(self, nombre):\n",
    "        self.nombre = nombre\n",
    "        print('Hola. Mi nombre es {}.'.format(self.nombre))\n",
    "    \n",
    "    def reproduccion(self):\n",
    "        '''Sólo define una interfaz.'''\n",
    "        pass\n",
    "    \n",
    "    def __del__(self):\n",
    "        print(\"El animal {} acaba de fallecer.\".format(self.nombre))"
   ]
  },
  {
   "cell_type": "code",
   "execution_count": 22,
   "metadata": {},
   "outputs": [],
   "source": [
    "class Mamifero(Animal):\n",
    "    '''Clase que incluye actividades de los mamíferos.'''\n",
    "    \n",
    "    def reproduccion(self):\n",
    "        '''Es la implementación de la interfaz reproducción de la superclase.'''\n",
    "        print('Toma un cachorro.')\n",
    "        \n",
    "    def amamanta(self):\n",
    "        print('Toma un vaso de leche.')"
   ]
  },
  {
   "cell_type": "code",
   "execution_count": 23,
   "metadata": {},
   "outputs": [],
   "source": [
    "class Reptil(Animal):\n",
    "    '''Clase que incluye actividades de los reptiles.'''\n",
    "    venenoso = True\n",
    "    def reproduccion(self):\n",
    "        '''Es la implementación de la interfaz reproducción de la superclase.'''\n",
    "        print('Toma un huevo.')\n",
    "    \n",
    "    def veneno(self):\n",
    "        if self.venenoso:\n",
    "            print(\"Estás envenenado.\")\n",
    "        else:\n",
    "            print(\"No soy venenoso.\")"
   ]
  },
  {
   "cell_type": "code",
   "execution_count": 24,
   "metadata": {},
   "outputs": [],
   "source": [
    "class Ornitorrinco(Reptil, Mamifero):\n",
    "    '''Los ornitorrincos son animales muy raros.'''\n",
    "    \n",
    "    def __init__(self, nombre):\n",
    "        '''Despliega un texto y ejecuta elcódigo del método __init__() de la superclase.'''\n",
    "        super().__init__(nombre)\n",
    "        print('¿Pero qué es esto?')"
   ]
  },
  {
   "cell_type": "code",
   "execution_count": 25,
   "metadata": {},
   "outputs": [
    {
     "name": "stdout",
     "output_type": "stream",
     "text": [
      "Help on class Ornitorrinco in module __main__:\n",
      "\n",
      "class Ornitorrinco(Reptil, Mamifero)\n",
      " |  Los ornitorrincos son animales muy raros.\n",
      " |  \n",
      " |  Method resolution order:\n",
      " |      Ornitorrinco\n",
      " |      Reptil\n",
      " |      Mamifero\n",
      " |      Animal\n",
      " |      builtins.object\n",
      " |  \n",
      " |  Methods defined here:\n",
      " |  \n",
      " |  __init__(self, nombre)\n",
      " |      Despliega un texto y ejecuta elcódigo del método __init__() de la superclase.\n",
      " |  \n",
      " |  ----------------------------------------------------------------------\n",
      " |  Methods inherited from Reptil:\n",
      " |  \n",
      " |  reproduccion(self)\n",
      " |      Es la implementación de la interfaz reproducción de la superclase.\n",
      " |  \n",
      " |  veneno(self)\n",
      " |  \n",
      " |  ----------------------------------------------------------------------\n",
      " |  Data and other attributes inherited from Reptil:\n",
      " |  \n",
      " |  venenoso = True\n",
      " |  \n",
      " |  ----------------------------------------------------------------------\n",
      " |  Methods inherited from Mamifero:\n",
      " |  \n",
      " |  amamanta(self)\n",
      " |  \n",
      " |  ----------------------------------------------------------------------\n",
      " |  Methods inherited from Animal:\n",
      " |  \n",
      " |  __del__(self)\n",
      " |  \n",
      " |  ----------------------------------------------------------------------\n",
      " |  Data descriptors inherited from Animal:\n",
      " |  \n",
      " |  __dict__\n",
      " |      dictionary for instance variables (if defined)\n",
      " |  \n",
      " |  __weakref__\n",
      " |      list of weak references to the object (if defined)\n",
      "\n"
     ]
    }
   ],
   "source": [
    "help(Ornitorrinco)"
   ]
  },
  {
   "cell_type": "code",
   "execution_count": 26,
   "metadata": {},
   "outputs": [
    {
     "name": "stdout",
     "output_type": "stream",
     "text": [
      "Hola. Mi nombre es Agente P.\n",
      "¿Pero qué es esto?\n"
     ]
    }
   ],
   "source": [
    "perry = Ornitorrinco(\"Agente P\")"
   ]
  },
  {
   "cell_type": "code",
   "execution_count": 27,
   "metadata": {},
   "outputs": [
    {
     "name": "stdout",
     "output_type": "stream",
     "text": [
      "Estás envenenado.\n"
     ]
    }
   ],
   "source": [
    "perry.veneno()"
   ]
  },
  {
   "cell_type": "code",
   "execution_count": 28,
   "metadata": {},
   "outputs": [
    {
     "name": "stdout",
     "output_type": "stream",
     "text": [
      "Toma un huevo.\n"
     ]
    }
   ],
   "source": [
    "perry.reproduccion()"
   ]
  },
  {
   "cell_type": "code",
   "execution_count": 29,
   "metadata": {},
   "outputs": [
    {
     "name": "stdout",
     "output_type": "stream",
     "text": [
      "Toma un vaso de leche.\n"
     ]
    }
   ],
   "source": [
    "perry.amamanta()"
   ]
  },
  {
   "cell_type": "code",
   "execution_count": 30,
   "metadata": {},
   "outputs": [
    {
     "name": "stdout",
     "output_type": "stream",
     "text": [
      "El animal Agente P acaba de fallecer.\n"
     ]
    }
   ],
   "source": [
    "del perry"
   ]
  },
  {
   "cell_type": "code",
   "execution_count": 31,
   "metadata": {},
   "outputs": [
    {
     "data": {
      "text/plain": [
       "True"
      ]
     },
     "execution_count": 31,
     "metadata": {},
     "output_type": "execute_result"
    }
   ],
   "source": [
    "issubclass(Ornitorrinco, Reptil)"
   ]
  },
  {
   "cell_type": "code",
   "execution_count": 32,
   "metadata": {},
   "outputs": [
    {
     "data": {
      "text/plain": [
       "True"
      ]
     },
     "execution_count": 32,
     "metadata": {},
     "output_type": "execute_result"
    }
   ],
   "source": [
    "issubclass(Ornitorrinco, Mamifero)"
   ]
  },
  {
   "cell_type": "code",
   "execution_count": 33,
   "metadata": {},
   "outputs": [
    {
     "data": {
      "text/plain": [
       "True"
      ]
     },
     "execution_count": 33,
     "metadata": {},
     "output_type": "execute_result"
    }
   ],
   "source": [
    "issubclass(Ornitorrinco, Animal)"
   ]
  },
  {
   "cell_type": "markdown",
   "metadata": {
    "collapsed": true
   },
   "source": [
    "<p style=\"text-align: center\"><a rel=\"license\" href=\"http://creativecommons.org/licenses/by/4.0/\"><img alt=\"Licencia Creative Commons\" style=\"border-width:0\" src=\"https://i.creativecommons.org/l/by/4.0/80x15.png\" /></a><br />Esta obra está bajo una <a rel=\"license\" href=\"http://creativecommons.org/licenses/by/4.0/\">Licencia Creative Commons Atribución 4.0 Internacional</a>.</p>\n",
    "<p style=\"text-align: center\">&copy; José Luis Chiquete Valdivieso. 2018.</p>"
   ]
  }
 ],
 "metadata": {
  "kernelspec": {
   "display_name": "Python 3",
   "language": "python",
   "name": "python3"
  },
  "language_info": {
   "codemirror_mode": {
    "name": "ipython",
    "version": 3
   },
   "file_extension": ".py",
   "mimetype": "text/x-python",
   "name": "python",
   "nbconvert_exporter": "python",
   "pygments_lexer": "ipython3",
   "version": "3.6.4"
  }
 },
 "nbformat": 4,
 "nbformat_minor": 2
}
